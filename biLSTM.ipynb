{
 "cells": [
  {
   "cell_type": "code",
   "execution_count": 1,
   "metadata": {
    "colab": {
     "base_uri": "https://localhost:8080/",
     "height": 34
    },
    "colab_type": "code",
    "id": "Eyv1gxB7REfK",
    "outputId": "46047c66-a300-4e70-b096-0c1e5f29d2fb"
   },
   "outputs": [
    {
     "name": "stdout",
     "output_type": "stream",
     "text": [
      "Drive already mounted at /mydrive; to attempt to forcibly remount, call drive.mount(\"/mydrive\", force_remount=True).\n"
     ]
    }
   ],
   "source": [
    "from google.colab import drive\n",
    "drive.mount('/mydrive')"
   ]
  },
  {
   "cell_type": "markdown",
   "metadata": {},
   "source": [
    "Connecting colab to google drive.\n",
    "Extracting data to a specific folder."
   ]
  },
  {
   "cell_type": "code",
   "execution_count": 0,
   "metadata": {
    "colab": {},
    "colab_type": "code",
    "id": "obJZf9XbSNyq"
   },
   "outputs": [],
   "source": [
    "\n",
    "import zipfile\n",
    "zip_ref = zipfile.ZipFile(\"/mydrive/My Drive/Project/preprocessedwith1thresh.zip\", 'r')\n",
    "zip_ref.extractall(\"/content/data1\")\n",
    "zip_ref.close()"
   ]
  },
  {
   "cell_type": "code",
   "execution_count": 0,
   "metadata": {
    "colab": {},
    "colab_type": "code",
    "id": "GjwDFhgyisXP"
   },
   "outputs": [],
   "source": [
    "import os\n",
    "a=os.listdir('/content/data1')"
   ]
  },
  {
   "cell_type": "markdown",
   "metadata": {},
   "source": [
    "Since initially we don't know the index locations of the classes(0 & 1), we will be distinguishing the images corresponding to class 1 only.\n",
    "\n",
    "To do this, we will first generate a list of strings which match with the image names we are trying to find out the index locations of.\n",
    "We then run a loop and if a match is found between the real directory containing images and the list previously created, we will be collecting index locations of the image names corresponding to class 1."
   ]
  },
  {
   "cell_type": "code",
   "execution_count": 0,
   "metadata": {
    "colab": {},
    "colab_type": "code",
    "id": "nN0gKdkvS6za"
   },
   "outputs": [],
   "source": [
    "#Step 1\n",
    "list1=[]\n",
    "for i in range(0,580):\n",
    "    if i%3==0:\n",
    "        list1.append('sample_1_'+str(i)+'.png')\n",
    "\n",
    "#Step 2        \n",
    "list2=[]\n",
    "for i in range(0,len(a)):\n",
    "      if a[i] in list1:\n",
    "        list2.append(i)"
   ]
  },
  {
   "cell_type": "code",
   "execution_count": 5,
   "metadata": {
    "colab": {
     "base_uri": "https://localhost:8080/",
     "height": 34
    },
    "colab_type": "code",
    "id": "1iR4hh4zSnvQ",
    "outputId": "950af9fd-4f5b-4f4a-ef7b-c628077b09e2"
   },
   "outputs": [
    {
     "data": {
      "text/plain": [
       "194"
      ]
     },
     "execution_count": 5,
     "metadata": {
      "tags": []
     },
     "output_type": "execute_result"
    }
   ],
   "source": [
    "len(list2)"
   ]
  },
  {
   "cell_type": "markdown",
   "metadata": {},
   "source": [
    "Importing necessary apis"
   ]
  },
  {
   "cell_type": "code",
   "execution_count": 6,
   "metadata": {
    "colab": {
     "base_uri": "https://localhost:8080/",
     "height": 34
    },
    "colab_type": "code",
    "id": "buCmErf3juXI",
    "outputId": "38d07752-9e7c-4c5f-e325-ddca220ad92c"
   },
   "outputs": [
    {
     "name": "stderr",
     "output_type": "stream",
     "text": [
      "Using TensorFlow backend.\n"
     ]
    }
   ],
   "source": [
    "# For controlling Python warnings - https://docs.python.org/3.6/library/warnings.html\n",
    "import warnings\n",
    "warnings.filterwarnings(\"ignore\")\n",
    "\n",
    "# For iterators - https://docs.python.org/3.1/library/itertools.html\n",
    "import itertools\n",
    "\n",
    "# For loading and handling data\n",
    "import numpy as np\n",
    "import pandas as pd\n",
    "\n",
    "# For Normalization\n",
    "from sklearn.preprocessing import MinMaxScaler\n",
    "\n",
    "# For constructing DNN\n",
    "import tensorflow as tf\n",
    "tf.logging.set_verbosity(tf.logging.ERROR)\n",
    "from keras.layers import Input,Dropout,Dense \n",
    "from keras.models import Model\n",
    "from keras import regularizers\n",
    "from keras.utils.data_utils import get_file\n",
    "\n",
    "# For visualization\n",
    "import matplotlib.pyplot as plt\n",
    "\n",
    "# For evaluating the accuracy\n",
    "from sklearn.metrics import confusion_matrix,accuracy_score,recall_score,precision_score,f1_score\n",
    "%matplotlib inline\n",
    "import os\n",
    "from PIL import Image"
   ]
  },
  {
   "cell_type": "code",
   "execution_count": 0,
   "metadata": {
    "colab": {},
    "colab_type": "code",
    "id": "N2_LK-yjjwVI"
   },
   "outputs": [],
   "source": [
    "from numpy import *\n",
    "path1='/content/data1'\n",
    "imlist=os.listdir(path1)\n",
    "num_samples=size(imlist)"
   ]
  },
  {
   "cell_type": "code",
   "execution_count": 8,
   "metadata": {
    "colab": {
     "base_uri": "https://localhost:8080/",
     "height": 34
    },
    "colab_type": "code",
    "id": "SGGyOtuEj7o6",
    "outputId": "221dab30-75af-4eb9-9a41-f4a7d440c2a1"
   },
   "outputs": [
    {
     "data": {
      "text/plain": [
       "2904"
      ]
     },
     "execution_count": 8,
     "metadata": {
      "tags": []
     },
     "output_type": "execute_result"
    }
   ],
   "source": [
    "num_samples"
   ]
  },
  {
   "cell_type": "markdown",
   "metadata": {},
   "source": [
    "Converting data into a matrix of vectors."
   ]
  },
  {
   "cell_type": "code",
   "execution_count": 0,
   "metadata": {
    "colab": {},
    "colab_type": "code",
    "id": "zHCyz4rVj9wR"
   },
   "outputs": [],
   "source": [
    "immatrix=array([array(Image.open('/content/data1' + '/' + im2)).flatten() for im2 in imlist], 'f')"
   ]
  },
  {
   "cell_type": "markdown",
   "metadata": {},
   "source": [
    "Creating an array of size equal to the row size of the data with initial values 1. We will then use the index locations which we found out earlier to change these label values to either 0 (if index of the new loop does not match with label) or 1 (if index of the new loop matches with the label)"
   ]
  },
  {
   "cell_type": "code",
   "execution_count": 0,
   "metadata": {
    "colab": {},
    "colab_type": "code",
    "id": "kWwDiPj2kB9P"
   },
   "outputs": [],
   "source": [
    "labels=np.ones((num_samples,), dtype=int)"
   ]
  },
  {
   "cell_type": "code",
   "execution_count": 0,
   "metadata": {
    "colab": {},
    "colab_type": "code",
    "id": "70Pa6g9QkELe"
   },
   "outputs": [],
   "source": [
    "for i in range(0,len(labels)):\n",
    "  if i in list2:\n",
    "    labels[i]=1\n",
    "  else:\n",
    "    labels[i]=0"
   ]
  },
  {
   "cell_type": "code",
   "execution_count": 0,
   "metadata": {
    "colab": {},
    "colab_type": "code",
    "id": "7pCrgcFskHCB"
   },
   "outputs": [],
   "source": [
    "\n",
    "df1=pd.DataFrame(immatrix)"
   ]
  },
  {
   "cell_type": "markdown",
   "metadata": {},
   "source": [
    "Adding class column to the dataframe just created."
   ]
  },
  {
   "cell_type": "code",
   "execution_count": 0,
   "metadata": {
    "colab": {},
    "colab_type": "code",
    "id": "DxWWDDdhkKa8"
   },
   "outputs": [],
   "source": [
    "defi=labels.tolist()\n",
    "df1['class']=labels"
   ]
  },
  {
   "cell_type": "markdown",
   "metadata": {},
   "source": [
    "Class Imbalance"
   ]
  },
  {
   "cell_type": "code",
   "execution_count": 0,
   "metadata": {
    "colab": {
     "base_uri": "https://localhost:8080/",
     "height": 282
    },
    "colab_type": "code",
    "id": "XNLxf064ooAh",
    "outputId": "a16d2800-cd05-4da0-e75f-810368232ac8"
   },
   "outputs": [
    {
     "data": {
      "text/plain": [
       "<matplotlib.axes._subplots.AxesSubplot at 0x7faca92ca0f0>"
      ]
     },
     "execution_count": 16,
     "metadata": {
      "tags": []
     },
     "output_type": "execute_result"
    },
    {
     "data": {
      "image/png": "[encoded data removed]",
      "text/plain": [
       "<Figure size 432x288 with 1 Axes>"
      ]
     },
     "metadata": {
      "tags": []
     },
     "output_type": "display_data"
    }
   ],
   "source": [
    "pd.Series(df1.iloc[:,-1]).value_counts().plot.bar()"
   ]
  },
  {
   "cell_type": "code",
   "execution_count": 18,
   "metadata": {
    "colab": {
     "base_uri": "https://localhost:8080/",
     "height": 67
    },
    "colab_type": "code",
    "id": "P-iXBlMwx7eV",
    "outputId": "48878915-a9dc-49c0-e6b6-3583e5c4fddd"
   },
   "outputs": [
    {
     "data": {
      "text/plain": [
       "0    0.933196\n",
       "1    0.066804\n",
       "Name: class, dtype: float64"
      ]
     },
     "execution_count": 18,
     "metadata": {
      "tags": []
     },
     "output_type": "execute_result"
    }
   ],
   "source": [
    "df1['class'].value_counts()/len(df1)"
   ]
  },
  {
   "cell_type": "code",
   "execution_count": 0,
   "metadata": {
    "colab": {},
    "colab_type": "code",
    "id": "5G6zcIFso8ft"
   },
   "outputs": [],
   "source": [
    "X=np.array(df1.loc[:,df1.columns!='class'])\n",
    "y=np.array(df1.loc[:,df1.columns=='class']).reshape(-1,1)"
   ]
  },
  {
   "cell_type": "markdown",
   "metadata": {},
   "source": [
    "Normalizing data. "
   ]
  },
  {
   "cell_type": "code",
   "execution_count": 0,
   "metadata": {
    "colab": {},
    "colab_type": "code",
    "id": "BEJ93m21pyYa"
   },
   "outputs": [],
   "source": [
    "from sklearn.preprocessing import StandardScaler\n",
    "\n",
    "scaler=StandardScaler()\n",
    "X=scaler.fit_transform(X)"
   ]
  },
  {
   "cell_type": "code",
   "execution_count": 0,
   "metadata": {
    "colab": {},
    "colab_type": "code",
    "id": "QBbUT1tmqKdA"
   },
   "outputs": [],
   "source": [
    "from sklearn.model_selection import train_test_split\n",
    "\n",
    "X_train,X_test,y_train,y_test=train_test_split(X,y,test_size=0.33,random_state=2, shuffle=True,stratify=y)"
   ]
  },
  {
   "cell_type": "markdown",
   "metadata": {},
   "source": [
    "Oversampling using SMOTE to have equal number of class tuples"
   ]
  },
  {
   "cell_type": "code",
   "execution_count": 22,
   "metadata": {
    "colab": {
     "base_uri": "https://localhost:8080/",
     "height": 70
    },
    "colab_type": "code",
    "id": "0NQGHw80oszs",
    "outputId": "c3b5d4e7-9602-407e-dcdb-30d82959cfa9"
   },
   "outputs": [
    {
     "name": "stderr",
     "output_type": "stream",
     "text": [
      "/usr/local/lib/python3.6/dist-packages/sklearn/externals/six.py:31: DeprecationWarning: The module is deprecated in version 0.21 and will be removed in version 0.23 since we've dropped support for Python 2.7. Please rely on the official version of six (https://pypi.org/project/six/).\n",
      "  \"(https://pypi.org/project/six/).\", DeprecationWarning)\n"
     ]
    }
   ],
   "source": [
    "from imblearn.over_sampling import SMOTE\n",
    "\n",
    "sm=SMOTE(random_state=33)"
   ]
  },
  {
   "cell_type": "code",
   "execution_count": 0,
   "metadata": {
    "colab": {},
    "colab_type": "code",
    "id": "sqcCIBMCnWSI"
   },
   "outputs": [],
   "source": [
    "X_train_new, y_train_new=sm.fit_sample(X_train,y_train)"
   ]
  },
  {
   "cell_type": "code",
   "execution_count": 0,
   "metadata": {
    "colab": {
     "base_uri": "https://localhost:8080/",
     "height": 282
    },
    "colab_type": "code",
    "id": "iu9SS2LenWcE",
    "outputId": "5d85e7cb-bde3-4e2a-89b9-2cb02410fb2b"
   },
   "outputs": [
    {
     "data": {
      "text/plain": [
       "<matplotlib.axes._subplots.AxesSubplot at 0x7fcbb5035978>"
      ]
     },
     "execution_count": 152,
     "metadata": {
      "tags": []
     },
     "output_type": "execute_result"
    },
    {
     "data": {
      "image/png": "[encoded data removed]",
      "text/plain": [
       "<Figure size 432x288 with 1 Axes>"
      ]
     },
     "metadata": {
      "tags": []
     },
     "output_type": "display_data"
    }
   ],
   "source": [
    "pd.Series(y_train_new).value_counts().plot.bar()"
   ]
  },
  {
   "cell_type": "markdown",
   "metadata": {
    "colab": {
     "base_uri": "https://localhost:8080/",
     "height": 34
    },
    "colab_type": "code",
    "id": "AK37ZnuTHTJ1",
    "outputId": "600ab362-a24e-4b57-a975-e3b520362c5b"
   },
   "source": [
    "Reshaping data for LSTM"
   ]
  },
  {
   "cell_type": "code",
   "execution_count": 0,
   "metadata": {
    "colab": {},
    "colab_type": "code",
    "id": "5pXu40CZTKFW"
   },
   "outputs": [],
   "source": [
    "X_train_lst=X_train_new\n",
    "y_train_lst=y_train_new\n",
    "X_test_lst=X_test\n",
    "y_test_lst=y_test.ravel()"
   ]
  },
  {
   "cell_type": "markdown",
   "metadata": {
    "colab_type": "text",
    "id": "Wyru_hRoTHRv"
   },
   "source": []
  },
  {
   "cell_type": "code",
   "execution_count": 0,
   "metadata": {
    "colab": {},
    "colab_type": "code",
    "id": "V1g-BSSaTty5"
   },
   "outputs": [],
   "source": [
    "X_train_lst=X_train_lst.reshape(X_train_lst.shape[0],X_train_lst.shape[1],1)\n",
    "X_test_lst=X_test_lst.reshape(X_test_lst.shape[0],X_test_lst.shape[1],1)"
   ]
  },
  {
   "cell_type": "code",
   "execution_count": 0,
   "metadata": {
    "colab": {},
    "colab_type": "code",
    "id": "UKvI1YkqClZb"
   },
   "outputs": [],
   "source": [
    "from keras.utils import np_utils\n",
    "y_train_lst=np_utils.to_categorical(y_train_lst,2)\n",
    "y_test_lst=np_utils.to_categorical(y_test_lst,2)"
   ]
  },
  {
   "cell_type": "code",
   "execution_count": 27,
   "metadata": {
    "colab": {
     "base_uri": "https://localhost:8080/",
     "height": 84
    },
    "colab_type": "code",
    "id": "JWJu0KriTt2Q",
    "outputId": "c6f67db9-5776-4eba-b8bd-4cad89d9ad41"
   },
   "outputs": [
    {
     "name": "stdout",
     "output_type": "stream",
     "text": [
      "(3630, 65536, 1)\n",
      "(3630, 2)\n",
      "(959, 65536, 1)\n",
      "(959, 2)\n"
     ]
    }
   ],
   "source": [
    "print(X_train_lst.shape)\n",
    "print(y_train_lst.shape)\n",
    "print(X_test_lst.shape)\n",
    "print(y_test_lst.shape)"
   ]
  },
  {
   "cell_type": "code",
   "execution_count": 0,
   "metadata": {
    "colab": {},
    "colab_type": "code",
    "id": "QNIRpLm5Tt4w"
   },
   "outputs": [],
   "source": [
    "from keras.layers import LSTM, Flatten,Dense,Dropout, Bidirectional,GlobalMaxPool1D, CuDNNLSTM\n",
    "from keras.models import Sequential"
   ]
  },
  {
   "cell_type": "markdown",
   "metadata": {},
   "source": [
    "Building architecture for Bidirectional LSTM."
   ]
  },
  {
   "cell_type": "code",
   "execution_count": 0,
   "metadata": {
    "colab": {},
    "colab_type": "code",
    "id": "5uKshMMUTt8Q"
   },
   "outputs": [],
   "source": [
    "model=Sequential()\n",
    "inp = Input(shape=(65536,1))\n",
    "x=Bidirectional(CuDNNLSTM(10,return_sequences=True))(inp)\n",
    "x=Dropout(0.25)(x)\n",
    "x=Flatten()(x)\n",
    "x =Dense(100, activation=\"relu\")(x)\n",
    "x=Dropout(0.25)(x)\n",
    "x=Dense(2,activation='softmax')(x)\n",
    "model = Model(inputs=inp, outputs=x)\n",
    "model.compile(loss='binary_crossentropy',optimizer='adam',metrics=['accuracy'])"
   ]
  },
  {
   "cell_type": "markdown",
   "metadata": {},
   "source": [
    "Training data"
   ]
  },
  {
   "cell_type": "code",
   "execution_count": 30,
   "metadata": {
    "colab": {
     "base_uri": "https://localhost:8080/",
     "height": 134
    },
    "colab_type": "code",
    "id": "IvkN7Y46TuBj",
    "outputId": "c0509dc4-9303-49a2-e430-039e082ee1cd"
   },
   "outputs": [
    {
     "name": "stdout",
     "output_type": "stream",
     "text": [
      "Epoch 1/3\n",
      "3630/3630 [==============================] - 142s 39ms/step - loss: 2.9380 - acc: 0.7923\n",
      "Epoch 2/3\n",
      "3630/3630 [==============================] - 133s 37ms/step - loss: 2.2837 - acc: 0.8485\n",
      "Epoch 3/3\n",
      "3630/3630 [==============================] - 133s 37ms/step - loss: 2.8560 - acc: 0.8160\n"
     ]
    },
    {
     "data": {
      "text/plain": [
       "<keras.callbacks.History at 0x7f739ce83be0>"
      ]
     },
     "execution_count": 30,
     "metadata": {
      "tags": []
     },
     "output_type": "execute_result"
    }
   ],
   "source": [
    "model.fit(X_train_lst,y_train_lst,epochs=3,batch_size=128,verbose=1)"
   ]
  },
  {
   "cell_type": "code",
   "execution_count": 0,
   "metadata": {
    "colab": {},
    "colab_type": "code",
    "id": "sUTceTVdTuE-"
   },
   "outputs": [],
   "source": [
    "preds=model.predict(X_test_lst[:])"
   ]
  },
  {
   "cell_type": "code",
   "execution_count": 0,
   "metadata": {
    "colab": {},
    "colab_type": "code",
    "id": "uu1LRAU3hHys"
   },
   "outputs": [],
   "source": [
    "y_test_values=y_test_lst[:,1]\n",
    "abc=preds[:,1]\n",
    "abc=np.trunc(abc)"
   ]
  },
  {
   "cell_type": "markdown",
   "metadata": {},
   "source": [
    "Evaluating model using metric Matthews corrcoef"
   ]
  },
  {
   "cell_type": "code",
   "execution_count": 97,
   "metadata": {
    "colab": {
     "base_uri": "https://localhost:8080/",
     "height": 34
    },
    "colab_type": "code",
    "id": "Cc83erg0hIAC",
    "outputId": "af1a3e91-31ea-47fa-cec4-e6e9bb50d3cc"
   },
   "outputs": [
    {
     "data": {
      "text/plain": [
       "0.3953005929031948"
      ]
     },
     "execution_count": 97,
     "metadata": {
      "tags": []
     },
     "output_type": "execute_result"
    }
   ],
   "source": [
    "from sklearn.metrics import matthews_corrcoef\n",
    "matthews_corrcoef(y_test_values,abc)"
   ]
  }
 ],
 "metadata": {
  "accelerator": "GPU",
  "colab": {
   "collapsed_sections": [],
   "name": "Untitled0.ipynb",
   "provenance": [],
   "version": "0.3.2"
  },
  "kernelspec": {
   "display_name": "Python 3",
   "language": "python",
   "name": "python3"
  },
  "language_info": {
   "codemirror_mode": {
    "name": "ipython",
    "version": 3
   },
   "file_extension": ".py",
   "mimetype": "text/x-python",
   "name": "python",
   "nbconvert_exporter": "python",
   "pygments_lexer": "ipython3",
   "version": "3.6.5"
  }
 },
 "nbformat": 4,
 "nbformat_minor": 1
}
